{
 "cells": [
  {
   "cell_type": "code",
   "execution_count": 1,
   "metadata": {},
   "outputs": [
    {
     "name": "stdout",
     "output_type": "stream",
     "text": [
      "   0 Microsoft Sound Mapper - Input, MME (2 in, 0 out)\n",
      ">  1 Microphone (3- USB PnP Sound De, MME (1 in, 0 out)\n",
      "   2 Microsoft Sound Mapper - Output, MME (0 in, 2 out)\n",
      "<  3 Speakers (3- USB PnP Sound Devi, MME (0 in, 2 out)\n",
      "   4 Speakers (Realtek(R) Audio), MME (0 in, 6 out)\n",
      "   5 Primary Sound Capture Driver, Windows DirectSound (2 in, 0 out)\n",
      "   6 Microphone (3- USB PnP Sound Device), Windows DirectSound (1 in, 0 out)\n",
      "   7 Primary Sound Driver, Windows DirectSound (0 in, 2 out)\n",
      "   8 Speakers (3- USB PnP Sound Device), Windows DirectSound (0 in, 2 out)\n",
      "   9 Speakers (Realtek(R) Audio), Windows DirectSound (0 in, 6 out)\n",
      "  10 Speakers (3- USB PnP Sound Device), Windows WASAPI (0 in, 2 out)\n",
      "  11 Speakers (Realtek(R) Audio), Windows WASAPI (0 in, 2 out)\n",
      "  12 Microphone (3- USB PnP Sound Device), Windows WASAPI (1 in, 0 out)\n",
      "  13 Line In (Realtek HD Audio Line input), Windows WDM-KS (2 in, 0 out)\n",
      "  14 Speakers (Realtek HD Audio output), Windows WDM-KS (0 in, 6 out)\n",
      "  15 Stereo Mix (Realtek HD Audio Stereo input), Windows WDM-KS (2 in, 0 out)\n",
      "  16 Microphone (Realtek HD Audio Mic input), Windows WDM-KS (2 in, 0 out)\n",
      "  17 Speakers (USB PnP Sound Device), Windows WDM-KS (0 in, 2 out)\n",
      "  18 Microphone (USB PnP Sound Device), Windows WDM-KS (1 in, 0 out)\n"
     ]
    }
   ],
   "source": [
    "import sounddevice as sd\n",
    "\n",
    "print(sd.query_devices())\n"
   ]
  },
  {
   "cell_type": "code",
   "execution_count": null,
   "metadata": {},
   "outputs": [],
   "source": []
  }
 ],
 "metadata": {
  "kernelspec": {
   "display_name": "Python 3",
   "language": "python",
   "name": "python3"
  },
  "language_info": {
   "codemirror_mode": {
    "name": "ipython",
    "version": 3
   },
   "file_extension": ".py",
   "mimetype": "text/x-python",
   "name": "python",
   "nbconvert_exporter": "python",
   "pygments_lexer": "ipython3",
   "version": "3.8.19"
  }
 },
 "nbformat": 4,
 "nbformat_minor": 2
}
